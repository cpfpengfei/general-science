{
 "cells": [
  {
   "cell_type": "markdown",
   "id": "architectural-small",
   "metadata": {},
   "source": [
    "# Converting a list of images to a PDF\n",
    "- Have a folder named \"Image_Queue\" with the images within (name the jpg or png files in alphanumeric ascending sequence to denote sequence in the output pdf)"
   ]
  },
  {
   "cell_type": "code",
   "execution_count": 2,
   "id": "compound-lending",
   "metadata": {},
   "outputs": [],
   "source": [
    "from PIL import Image\n",
    "import glob"
   ]
  },
  {
   "cell_type": "code",
   "execution_count": 14,
   "id": "diverse-restriction",
   "metadata": {},
   "outputs": [
    {
     "name": "stdout",
     "output_type": "stream",
     "text": [
      "['Image_Queue\\\\Y3S1_OfficialTranscript_1.jpg', 'Image_Queue\\\\Y3S1_OfficialTranscript_2.jpg', 'Image_Queue\\\\Y3S1_OfficialTranscript_3.jpg']\n",
      "\n",
      "Done!\n"
     ]
    }
   ],
   "source": [
    "list_names = glob.glob(\"Image_Queue/*.jpg\")\n",
    "print(list_names)\n",
    "start_img = Image.open(list_names[0])\n",
    "list_images = []\n",
    "for name in list_names[1:]:\n",
    "    list_images.append(Image.open(name))\n",
    "start_img.save(\"OuputPDF.pdf\", \"PDF\" ,resolution=100.0, save_all=True, append_images=list_images)\n",
    "print()\n",
    "print(\"Done!\")"
   ]
  },
  {
   "cell_type": "code",
   "execution_count": null,
   "id": "north-plaintiff",
   "metadata": {},
   "outputs": [],
   "source": []
  }
 ],
 "metadata": {
  "kernelspec": {
   "display_name": "Python 3",
   "language": "python",
   "name": "python3"
  },
  "language_info": {
   "codemirror_mode": {
    "name": "ipython",
    "version": 3
   },
   "file_extension": ".py",
   "mimetype": "text/x-python",
   "name": "python",
   "nbconvert_exporter": "python",
   "pygments_lexer": "ipython3",
   "version": "3.8.8"
  }
 },
 "nbformat": 4,
 "nbformat_minor": 5
}
