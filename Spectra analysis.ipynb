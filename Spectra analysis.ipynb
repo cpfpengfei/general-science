{
 "cells": [
  {
   "cell_type": "markdown",
   "metadata": {},
   "source": [
    "# Peaks and peak width \n",
    "- Decipher peaks and their FWHM and ignore spectra noise "
   ]
  },
  {
   "cell_type": "code",
   "execution_count": 1,
   "metadata": {},
   "outputs": [],
   "source": [
    "import matplotlib.pyplot as plt\n",
    "import numpy as np\n",
    "from scipy.stats import norm\n",
    "from scipy import signal\n",
    "from numpy import sqrt, log # which is ln\n",
    "import glob"
   ]
  },
  {
   "cell_type": "code",
   "execution_count": 18,
   "metadata": {},
   "outputs": [],
   "source": [
    "def calculate_fwhm(arr_x, arr_y):\n",
    "    difference = max(arr_y) - min(arr_y)\n",
    "    HM = difference / 2\n",
    "\n",
    "    pos_extremum = arr_y.argmax()  # or in your case: arr_y.argmin()\n",
    "\n",
    "    nearest_above = (np.abs(arr_y[pos_extremum:-1] - HM)).argmin()\n",
    "    nearest_below = (np.abs(arr_y[0:pos_extremum] - HM)).argmin()\n",
    "\n",
    "    FWHM = (np.mean(arr_x[nearest_above + pos_extremum]) - \n",
    "            np.mean(arr_x[nearest_below]))\n",
    "    print(\"max at:\", max(arr_y))\n",
    "    print(\"half max at:\", HM)\n",
    "    print(\"FWHM =\", FWHM)\n",
    "    \n",
    "def extract_peaks(arr_x, arr_y, distance = 20, prominence = 1):\n",
    "    peaks, _ = signal.find_peaks(arr_y, distance = distance, prominence = prominence)\n",
    "    peak_intensities = arr_y[peaks]\n",
    "    fwhm, halfpeak, start, end = signal.peak_widths(arr_y, peaks = peaks)\n",
    "    return list(peaks), list(peak_intensities), list(fwhm), (list(start), list(end))"
   ]
  },
  {
   "cell_type": "code",
   "execution_count": null,
   "metadata": {},
   "outputs": [],
   "source": []
  },
  {
   "cell_type": "markdown",
   "metadata": {},
   "source": [
    "# Gaussian curve generation"
   ]
  },
  {
   "cell_type": "code",
   "execution_count": 19,
   "metadata": {},
   "outputs": [],
   "source": [
    "def plot_gaussian_spectrum(peak_wavelength = 522, peak_intensity = 10, fwhm = 20):\n",
    "    sigma = fwhm/(2 * sqrt(2 * log(2)))\n",
    "    x = np.arange(380,781)\n",
    "    y = norm.pdf(x, loc = peak_wavelength, scale = sigma)\n",
    "\n",
    "    # rescale y to give peak intensity intended \n",
    "    y_max = max(y)\n",
    "    y_multiple = peak_intensity/y_max \n",
    "    y = y_multiple * y\n",
    "\n",
    "    fig, ax = plt.subplots()\n",
    "    plt.plot(x,y)\n",
    "    ax.grid(which = \"both\")\n",
    "    plt.show()\n",
    "    return x, y"
   ]
  },
  {
   "cell_type": "code",
   "execution_count": 20,
   "metadata": {},
   "outputs": [
    {
     "data": {
      "image/png": "[encoded data removed]",
      "text/plain": [
       "<Figure size 432x288 with 1 Axes>"
      ]
     },
     "metadata": {
      "needs_background": "light"
     },
     "output_type": "display_data"
    }
   ],
   "source": [
    "arr_x, arr_y = plot_gaussian_spectrum(520, 43, 30)"
   ]
  },
  {
   "cell_type": "code",
   "execution_count": 21,
   "metadata": {},
   "outputs": [
    {
     "data": {
      "text/plain": [
       "([140], [43.0], [30.0], ([125.0], [155.0]))"
      ]
     },
     "execution_count": 21,
     "metadata": {},
     "output_type": "execute_result"
    }
   ],
   "source": [
    "extract_peaks(arr_x, arr_y)"
   ]
  },
  {
   "cell_type": "code",
   "execution_count": null,
   "metadata": {},
   "outputs": [],
   "source": []
  },
  {
   "cell_type": "code",
   "execution_count": null,
   "metadata": {},
   "outputs": [],
   "source": []
  },
  {
   "cell_type": "markdown",
   "metadata": {},
   "source": [
    "# Curve decomposition \n",
    "- Decompose spectra into individual spectra with unique peaks"
   ]
  },
  {
   "cell_type": "code",
   "execution_count": null,
   "metadata": {},
   "outputs": [],
   "source": []
  },
  {
   "cell_type": "code",
   "execution_count": null,
   "metadata": {},
   "outputs": [],
   "source": []
  },
  {
   "cell_type": "code",
   "execution_count": null,
   "metadata": {},
   "outputs": [],
   "source": []
  },
  {
   "cell_type": "code",
   "execution_count": null,
   "metadata": {},
   "outputs": [],
   "source": []
  },
  {
   "cell_type": "markdown",
   "metadata": {},
   "source": [
    "# XPS spectra tooling"
   ]
  },
  {
   "cell_type": "code",
   "execution_count": null,
   "metadata": {},
   "outputs": [],
   "source": []
  },
  {
   "cell_type": "code",
   "execution_count": null,
   "metadata": {},
   "outputs": [],
   "source": []
  },
  {
   "cell_type": "code",
   "execution_count": null,
   "metadata": {},
   "outputs": [],
   "source": []
  },
  {
   "cell_type": "code",
   "execution_count": null,
   "metadata": {},
   "outputs": [],
   "source": []
  },
  {
   "cell_type": "code",
   "execution_count": null,
   "metadata": {},
   "outputs": [],
   "source": []
  },
  {
   "cell_type": "markdown",
   "metadata": {},
   "source": [
    "# UV-Vis spectra tooling"
   ]
  },
  {
   "cell_type": "code",
   "execution_count": null,
   "metadata": {},
   "outputs": [],
   "source": []
  },
  {
   "cell_type": "code",
   "execution_count": null,
   "metadata": {},
   "outputs": [],
   "source": []
  },
  {
   "cell_type": "code",
   "execution_count": null,
   "metadata": {},
   "outputs": [],
   "source": []
  },
  {
   "cell_type": "code",
   "execution_count": null,
   "metadata": {},
   "outputs": [],
   "source": []
  },
  {
   "cell_type": "code",
   "execution_count": null,
   "metadata": {},
   "outputs": [],
   "source": []
  }
 ],
 "metadata": {
  "kernelspec": {
   "display_name": "Python 3.7.6 64-bit (conda)",
   "language": "python",
   "name": "python37664bitconda75c0940d80dd4646be86c7ff3c8a83fb"
  },
  "language_info": {
   "codemirror_mode": {
    "name": "ipython",
    "version": 3
   },
   "file_extension": ".py",
   "mimetype": "text/x-python",
   "name": "python",
   "nbconvert_exporter": "python",
   "pygments_lexer": "ipython3",
   "version": "3.7.6"
  }
 },
 "nbformat": 4,
 "nbformat_minor": 4
}
