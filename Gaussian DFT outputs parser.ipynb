{
 "cells": [
  {
   "cell_type": "markdown",
   "metadata": {},
   "source": [
    "#  E(RB3LYP) Parser\n",
    "- Parses all E(RB3LYP) energy values for every SCP in .out file"
   ]
  },
  {
   "cell_type": "code",
   "execution_count": null,
   "metadata": {},
   "outputs": [],
   "source": [
    "import numpy as np\n",
    "import pandas as pd \n",
    "import os \n",
    "import time\n",
    "import sys\n",
    "import glob"
   ]
  },
  {
   "cell_type": "code",
   "execution_count": 1,
   "metadata": {},
   "outputs": [],
   "source": [
    "def parse_scp():\n",
    "    with open(\"All_Results.txt\", 'a+') as all_results_file:\n",
    "        all_output_files = glob.glob(\"*.out\")\n",
    "        print(f\"Processing {len(all_output_files)} number of .out files in this directory.\")\n",
    "        for output_file in all_output_files:\n",
    "            with open(output_file, \"r\") as fil:\n",
    "                print(f\"PROCESSING: {output_file}\")\n",
    "                all_results_file.write(f\"{output_file}\\n\")\n",
    "                all_lines = fil.readlines()\n",
    "                system_energies = []\n",
    "                for i, line in enumerate(all_lines):\n",
    "                    if \"E(RB3LYP)\" in line:\n",
    "                        system_energies.append(float(line.split()[4]))\n",
    "                print(\"DONE: All SCF E(RB3LYP) energies compiled for this structure!\")\n",
    "                for scf_energy in system_energies:      \n",
    "                    all_results_file.write(f\"{scf_energy}\\n\")\n",
    "                all_results_file.write(\"\\n---------------------\\n\\n\")"
   ]
  },
  {
   "cell_type": "code",
   "execution_count": null,
   "metadata": {},
   "outputs": [],
   "source": []
  },
  {
   "cell_type": "code",
   "execution_count": null,
   "metadata": {},
   "outputs": [],
   "source": []
  },
  {
   "cell_type": "code",
   "execution_count": null,
   "metadata": {},
   "outputs": [],
   "source": []
  },
  {
   "cell_type": "code",
   "execution_count": null,
   "metadata": {},
   "outputs": [],
   "source": []
  }
 ],
 "metadata": {
  "kernelspec": {
   "display_name": "Python 3.7.6 64-bit (conda)",
   "language": "python",
   "name": "python37664bitconda75c0940d80dd4646be86c7ff3c8a83fb"
  },
  "language_info": {
   "codemirror_mode": {
    "name": "ipython",
    "version": 3
   },
   "file_extension": ".py",
   "mimetype": "text/x-python",
   "name": "python",
   "nbconvert_exporter": "python",
   "pygments_lexer": "ipython3",
   "version": "3.7.6"
  }
 },
 "nbformat": 4,
 "nbformat_minor": 4
}
